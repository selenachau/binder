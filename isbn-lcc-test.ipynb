{
 "cells": [
  {
   "cell_type": "code",
   "execution_count": null,
   "id": "2d32ab95-6f06-46ff-bdbf-81b379e501d8",
   "metadata": {},
   "outputs": [],
   "source": [
    "# install python packages, must be done each time.\n",
    "# Open a new Terminal window (File > New > Terminal) and type\n",
    "# pip install isbnlib\n",
    "# pip intall pandas"
   ]
  },
  {
   "cell_type": "code",
   "execution_count": 1,
   "id": "e53acdce-42c3-480d-bae2-96f94ca8f529",
   "metadata": {},
   "outputs": [
    {
     "name": "stdout",
     "output_type": "stream",
     "text": [
      "Is this isbn witih dashes valid? 978-90-04335-46-2\n",
      "True 9789004335462\n"
     ]
    }
   ],
   "source": [
    "# isbn test\n",
    "# validate ISBN\n",
    "# Press Shift + Enter to run\n",
    "\n",
    "from isbnlib import canonical, is_isbn13\n",
    "\n",
    "print(\"Is this isbn witih dashes valid? 978-90-04335-46-2\")\n",
    "is_valid = is_isbn13(\"978-90-04335-46-2\")\n",
    "out = canonical(\"978-90-04335-46-2\")\n",
    "print(is_valid,out)"
   ]
  },
  {
   "cell_type": "code",
   "execution_count": null,
   "id": "523f8d29-b6b4-47e8-badd-6251eabc50e2",
   "metadata": {},
   "outputs": [],
   "source": []
  }
 ],
 "metadata": {
  "kernelspec": {
   "display_name": "Python 3 (ipykernel)",
   "language": "python",
   "name": "python3"
  },
  "language_info": {
   "codemirror_mode": {
    "name": "ipython",
    "version": 3
   },
   "file_extension": ".py",
   "mimetype": "text/x-python",
   "name": "python",
   "nbconvert_exporter": "python",
   "pygments_lexer": "ipython3",
   "version": "3.7.12"
  }
 },
 "nbformat": 4,
 "nbformat_minor": 5
}
